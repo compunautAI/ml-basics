{
  "nbformat": 4,
  "nbformat_minor": 0,
  "metadata": {
    "colab": {
      "provenance": [],
      "authorship_tag": "ABX9TyMnxGh1Oyelz/LhsvFd7xUl",
      "include_colab_link": true
    },
    "kernelspec": {
      "name": "python3",
      "display_name": "Python 3"
    },
    "language_info": {
      "name": "python"
    }
  },
  "cells": [
    {
      "cell_type": "markdown",
      "metadata": {
        "id": "view-in-github",
        "colab_type": "text"
      },
      "source": [
        "<a href=\"https://colab.research.google.com/github/compunautAI/ml-basics/blob/main/ml_basics_intro.ipynb\" target=\"_parent\"><img src=\"https://colab.research.google.com/assets/colab-badge.svg\" alt=\"Open In Colab\"/></a>"
      ]
    },
    {
      "cell_type": "markdown",
      "source": [
        "# Machine Learning Basics"
      ],
      "metadata": {
        "id": "x0MZ1yyHQ-HO"
      }
    },
    {
      "cell_type": "markdown",
      "source": [
        "## What is Machine Learning"
      ],
      "metadata": {
        "id": "cF5-Rl7gRJrU"
      }
    },
    {
      "cell_type": "markdown",
      "source": [
        "## Goal of Machine Learning"
      ],
      "metadata": {
        "id": "q4bdZbHTROvj"
      }
    },
    {
      "cell_type": "markdown",
      "source": [
        "## Types of Machine Learning"
      ],
      "metadata": {
        "id": "kNjhtXfjRUTh"
      }
    },
    {
      "cell_type": "markdown",
      "source": [
        "## Machine Learning Workflow"
      ],
      "metadata": {
        "id": "hubE4Qp8RadT"
      }
    },
    {
      "cell_type": "markdown",
      "source": [
        "### Aquire Data\n",
        "### Sanatize & Analyze input Data\n",
        "### Choose Model to use for problem\n",
        "### Train Model\n",
        "### Evaluate Model\n",
        "### Re-train, or choose different model as necessary"
      ],
      "metadata": {
        "id": "H5If8BZMRdOm"
      }
    }
  ]
}