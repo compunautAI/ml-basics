{
  "nbformat": 4,
  "nbformat_minor": 0,
  "metadata": {
    "colab": {
      "provenance": [],
      "authorship_tag": "ABX9TyNeOcI0psM7sFs4uTizl/lt",
      "include_colab_link": true
    },
    "kernelspec": {
      "name": "python3",
      "display_name": "Python 3"
    },
    "language_info": {
      "name": "python"
    }
  },
  "cells": [
    {
      "cell_type": "markdown",
      "metadata": {
        "id": "view-in-github",
        "colab_type": "text"
      },
      "source": [
        "<a href=\"https://colab.research.google.com/github/compunautAI/ml-basics/blob/main/intro/ml_basics_intro.ipynb\" target=\"_parent\"><img src=\"https://colab.research.google.com/assets/colab-badge.svg\" alt=\"Open In Colab\"/></a>"
      ]
    },
    {
      "cell_type": "markdown",
      "source": [
        "# Machine Learning Basics"
      ],
      "metadata": {
        "id": "x0MZ1yyHQ-HO"
      }
    },
    {
      "cell_type": "markdown",
      "source": [
        "## What is Machine Learning"
      ],
      "metadata": {
        "id": "cF5-Rl7gRJrU"
      }
    },
    {
      "cell_type": "markdown",
      "source": [
        "Machine Learning is a subfield of Artificial Intelligence (AI), which is a branch of Computer Science. While AI is a very broad term that encompasses many ways computers imitate human intelligence, Machine Learning specifically deals with models that learn over time from input data."
      ],
      "metadata": {
        "id": "OTkmIxgwStf1"
      }
    },
    {
      "cell_type": "markdown",
      "source": [
        "## Goal of Machine Learning"
      ],
      "metadata": {
        "id": "q4bdZbHTROvj"
      }
    },
    {
      "cell_type": "markdown",
      "source": [
        "To develop an algorithm or model that \"learns\" from data, and is able to make predictions or decisions without being explicitly programmed to do so.\n",
        "\n",
        "A model is said to learn if its Performance **P** increases with Experience **E** over time **T**"
      ],
      "metadata": {
        "id": "tNL3Vn45TMri"
      }
    },
    {
      "cell_type": "markdown",
      "source": [
        "## Types of Machine Learning\n",
        "\n",
        "### Supervised Learning\n",
        "\n",
        "### Unsupervised Learning\n",
        "\n",
        "### Semi-Supervised Learning\n",
        "\n",
        "### Regression\n",
        "\n",
        "### Classification"
      ],
      "metadata": {
        "id": "kNjhtXfjRUTh"
      }
    },
    {
      "cell_type": "markdown",
      "source": [
        "## Machine Learning Workflow"
      ],
      "metadata": {
        "id": "hubE4Qp8RadT"
      }
    },
    {
      "cell_type": "markdown",
      "source": [
        "### Aquire Data\n",
        "### Sanatize & Analyze input Data\n",
        "### Choose Model to use for problem\n",
        "### Train Model\n",
        "### Evaluate Model\n",
        "### Re-train, or choose different model as necessary"
      ],
      "metadata": {
        "id": "H5If8BZMRdOm"
      }
    }
  ]
}